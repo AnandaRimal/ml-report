{
 "cells": [
  {
   "cell_type": "code",
   "execution_count": 23,
   "id": "1d261503-e08b-4b43-a632-d6768bd45965",
   "metadata": {},
   "outputs": [],
   "source": [
    "import numpy as np\n",
    "import pandas as pd\n",
    "import matplotlib.pyplot as plt\n",
    "from sklearn.cluster import DBSCAN\n",
    "from sklearn.preprocessing import StandardScaler"
   ]
  },
  {
   "cell_type": "code",
   "execution_count": 116,
   "id": "7eb7f615-1d14-44a6-832e-56d75026ff9d",
   "metadata": {},
   "outputs": [],
   "source": [
    "# Data\n",
    "data = {\n",
    "    'Math':    [85, 88, 90, 55, 53, 58, 40, 42, 38, 65, 67, 66],\n",
    "    'Science': [78, 80, 82, 60, 58, 62, 45, 43, 41, 60, 62, 61],\n",
    "    'English': [90, 92, 93, 58, 55, 60, 42, 40, 45, 67, 69, 68],\n",
    "    'Performance': [1,1,1,0,0,0,0,0,0,1,1,1]\n",
    "}\n",
    "df = pd.DataFrame(data)"
   ]
  },
  {
   "cell_type": "code",
   "execution_count": 118,
   "id": "085a7df0-ebcf-4300-880d-986cc02ffec1",
   "metadata": {},
   "outputs": [],
   "source": [
    "# Features\n",
    "X = df[['Math', 'Science', 'English']]\n",
    "y_true = df['Performance']"
   ]
  },
  {
   "cell_type": "code",
   "execution_count": 120,
   "id": "a87e6ec0-004f-4d00-97e4-bd5ec1b2ccb2",
   "metadata": {},
   "outputs": [],
   "source": [
    "# Fix: Scale the features\n",
    "scaler = StandardScaler()\n",
    "X_scaled = scaler.fit_transform(X)"
   ]
  },
  {
   "cell_type": "code",
   "execution_count": 122,
   "id": "f33e29f9-628f-4df5-b3c9-6635ab0dfdf9",
   "metadata": {},
   "outputs": [],
   "source": [
    "# Apply DBSCAN\n",
    "db = DBSCAN(eps=0.5, min_samples=2)\n",
    "y_cluster = db.fit_predict(X_scaled)\n",
    "\n"
   ]
  },
  {
   "cell_type": "code",
   "execution_count": 124,
   "id": "00248b10-32fe-4820-a525-27986e45c3c2",
   "metadata": {},
   "outputs": [],
   "source": [
    "# Add cluster to DataFrame\n",
    "df['cluster'] = y_cluster"
   ]
  },
  {
   "cell_type": "code",
   "execution_count": 126,
   "id": "d640b385-f3c4-4f0c-9d6b-a3c138b3f8df",
   "metadata": {},
   "outputs": [
    {
     "name": "stdout",
     "output_type": "stream",
     "text": [
      "    Math  Science  English  Performance  cluster\n",
      "0     85       78       90            1        0\n",
      "1     88       80       92            1        0\n",
      "2     90       82       93            1        0\n",
      "3     55       60       58            0        1\n",
      "4     53       58       55            0        1\n",
      "5     58       62       60            0        1\n",
      "6     40       45       42            0        2\n",
      "7     42       43       40            0        2\n",
      "8     38       41       45            0        2\n",
      "9     65       60       67            1        3\n",
      "10    67       62       69            1        3\n",
      "11    66       61       68            1        3\n"
     ]
    }
   ],
   "source": [
    "# Output\n",
    "print(df)"
   ]
  },
  {
   "cell_type": "markdown",
   "id": "2b905dff-c2d7-408d-8c12-eb9450220714",
   "metadata": {},
   "source": [
    "### we conclude the DBScan\n"
   ]
  },
  {
   "cell_type": "code",
   "execution_count": 129,
   "id": "245b6049-a684-4c33-b956-788de01db4d8",
   "metadata": {},
   "outputs": [],
   "source": [
    "from sklearn.metrics import accuracy_score, precision_score, recall_score, f1_score, confusion_matrix"
   ]
  },
  {
   "cell_type": "code",
   "execution_count": 131,
   "id": "0bebca20-811a-4b06-ac30-78d3c6578e88",
   "metadata": {},
   "outputs": [],
   "source": [
    "# Remove noise points (cluster = -1)\n",
    "df_valid = df[df['cluster'] != -1].copy()\n"
   ]
  },
  {
   "cell_type": "code",
   "execution_count": 133,
   "id": "d6ff7160-a3d3-4f7d-bb8b-c5571646e9bd",
   "metadata": {},
   "outputs": [
    {
     "name": "stdout",
     "output_type": "stream",
     "text": [
      "    Math  Science  English  Performance  cluster\n",
      "0     85       78       90            1        0\n",
      "1     88       80       92            1        0\n",
      "2     90       82       93            1        0\n",
      "3     55       60       58            0        1\n",
      "4     53       58       55            0        1\n",
      "5     58       62       60            0        1\n",
      "6     40       45       42            0        2\n",
      "7     42       43       40            0        2\n",
      "8     38       41       45            0        2\n",
      "9     65       60       67            1        3\n",
      "10    67       62       69            1        3\n",
      "11    66       61       68            1        3\n"
     ]
    }
   ],
   "source": [
    "print(df_valid)"
   ]
  },
  {
   "cell_type": "code",
   "execution_count": 148,
   "id": "f7f607df-d216-47b4-874e-93379e74f62c",
   "metadata": {},
   "outputs": [],
   "source": [
    "y_true_valid=df_valid['Performance']\n",
    "y_pred_cluster = df_valid['cluster'].map({0:1, 1:0, 2:1, -1:0}).fillna(0).astype(int)\n"
   ]
  },
  {
   "cell_type": "code",
   "execution_count": 150,
   "id": "da1eea14-9e98-4ccc-80f1-c2e1e2499393",
   "metadata": {},
   "outputs": [
    {
     "name": "stdout",
     "output_type": "stream",
     "text": [
      "Accuracy: 0.50\n",
      "Precision: 0.50\n",
      "Recall: 0.50\n",
      "F1 Score: 0.50\n",
      "Confusion Matrix:\n",
      "[[3 3]\n",
      " [3 3]]\n"
     ]
    }
   ],
   "source": [
    "acc = accuracy_score(y_true_valid, y_pred_cluster)\n",
    "prec = precision_score(y_true_valid, y_pred_cluster)\n",
    "rec = recall_score(y_true_valid, y_pred_cluster)\n",
    "f1 = f1_score(y_true_valid, y_pred_cluster)\n",
    "cm = confusion_matrix(y_true_valid, y_pred_cluster)\n",
    "\n",
    "print(f\"Accuracy: {acc:.2f}\")\n",
    "print(f\"Precision: {prec:.2f}\")\n",
    "print(f\"Recall: {rec:.2f}\")\n",
    "print(f\"F1 Score: {f1:.2f}\")\n",
    "print(\"Confusion Matrix:\")\n",
    "print(cm)"
   ]
  },
  {
   "cell_type": "code",
   "execution_count": 152,
   "id": "6b9cb868-2f84-4d14-a1e1-20e1bfc7b16c",
   "metadata": {},
   "outputs": [
    {
     "data": {
      "image/png": "[encoded data removed]",
      "text/plain": [
       "<Figure size 640x480 with 2 Axes>"
      ]
     },
     "metadata": {},
     "output_type": "display_data"
    }
   ],
   "source": [
    "import matplotlib.pyplot as plt\n",
    "from sklearn.decomposition import PCA\n",
    "\n",
    "# Correct the parameter name here:\n",
    "pca = PCA(n_components=2)\n",
    "\n",
    "# Assuming x_scaled is your scaled feature matrix\n",
    "reduced = pca.fit_transform(X_scaled)\n",
    "\n",
    "# Plot the PCA result\n",
    "plt.scatter(reduced[:,0],reduced[:,1],c=df['cluster'],cmap='viridis',s=100)\n",
    "\n",
    "\n",
    "plt.xlabel('PCA 1')\n",
    "plt.ylabel('PCB 2')\n",
    "plt.title('DBscan Student clustering ')\n",
    "plt.colorbar(label='cluster')\n",
    "plt.show()\n",
    "\n"
   ]
  },
  {
   "cell_type": "code",
   "execution_count": null,
   "id": "72290534-402e-4ebc-825b-eb3184de1654",
   "metadata": {},
   "outputs": [],
   "source": []
  }
 ],
 "metadata": {
  "kernelspec": {
   "display_name": "Python [conda env:base] *",
   "language": "python",
   "name": "conda-base-py"
  },
  "language_info": {
   "codemirror_mode": {
    "name": "ipython",
    "version": 3
   },
   "file_extension": ".py",
   "mimetype": "text/x-python",
   "name": "python",
   "nbconvert_exporter": "python",
   "pygments_lexer": "ipython3",
   "version": "3.12.7"
  }
 },
 "nbformat": 4,
 "nbformat_minor": 5
}
